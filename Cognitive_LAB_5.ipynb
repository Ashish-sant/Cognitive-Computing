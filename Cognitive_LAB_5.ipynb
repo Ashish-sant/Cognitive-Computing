{
  "nbformat": 4,
  "nbformat_minor": 0,
  "metadata": {
    "colab": {
      "provenance": []
    },
    "kernelspec": {
      "name": "python3",
      "display_name": "Python 3"
    },
    "language_info": {
      "name": "python"
    }
  },
  "cells": [
    {
      "cell_type": "markdown",
      "source": [
        "1. For the array gfg = np.matrix('[4, 1, 9; 12, 3, 1; 4, 5, 6]').\n",
        "\n",
        "   Find\n",
        "\n",
        "   Sum of all elements\n",
        "\n",
        "   Sum of all elements row-wise\n",
        "\n",
        "   Sum of all elements column-wise"
      ],
      "metadata": {
        "id": "M0T8_r-_lhs8"
      }
    },
    {
      "cell_type": "code",
      "source": [
        "import numpy as np\n",
        "gfg = np.matrix([[4,1,9],[12,3,1],[4,5,6]])\n",
        "print(gfg,end='\\n\\n')\n",
        "\n",
        "print(\"Sum:\",np.sum(gfg))\n",
        "\n",
        "for i in range(gfg.shape[0]):\n",
        "  ans = 0\n",
        "  for j in range(0,gfg.shape[1]):\n",
        "    ans += gfg[i,j]\n",
        "  print(\"Row sum\",i+1,\"is:\",ans)\n",
        "\n",
        "print()\n",
        "\n",
        "for i in range(gfg.shape[1]):\n",
        "  ans = 0\n",
        "  for j in range(0,gfg.shape[0]):\n",
        "    ans += gfg[j,i]\n",
        "  print(\"Column sum\",i+1,\"is:\",ans)"
      ],
      "metadata": {
        "colab": {
          "base_uri": "https://localhost:8080/"
        },
        "id": "mgVuF95xmanJ",
        "outputId": "f94d921d-4519-4716-edd3-48e34bd3f6df"
      },
      "execution_count": 1,
      "outputs": [
        {
          "output_type": "stream",
          "name": "stdout",
          "text": [
            "[[ 4  1  9]\n",
            " [12  3  1]\n",
            " [ 4  5  6]]\n",
            "\n",
            "Sum: 45\n",
            "Row sum 1 is: 14\n",
            "Row sum 2 is: 16\n",
            "Row sum 3 is: 15\n",
            "\n",
            "Column sum 1 is: 20\n",
            "Column sum 2 is: 9\n",
            "Column sum 3 is: 16\n"
          ]
        }
      ]
    },
    {
      "cell_type": "markdown",
      "source": [
        "2.(a) For the array: array = np.array([10, 52, 62, 16, 16, 54, 453]),\n",
        "\n",
        "  find Sorted array, Indices of sorted array, 4 smallest elements, 5 largest elements\n",
        "\n",
        "  (b) For the array: array = np.array([1.0, 1.2, 2.2, 2.0, 3.0, 2.0]),\n",
        "  find Integer elements only ,Float elements only"
      ],
      "metadata": {
        "id": "VQKpEXQ8m7Wh"
      }
    },
    {
      "cell_type": "code",
      "source": [
        "a1 = np.array([10, 52, 62, 16, 16, 54, 453])\n",
        "print(a1)\n",
        "\n",
        "print(np.sort(a1))\n",
        "\n",
        "print(np.argsort(a1))\n",
        "\n",
        "ascOrder = np.sort(a1)\n",
        "for i in range(4):\n",
        "  print(ascOrder[i])\n",
        "\n",
        "print()\n",
        "\n",
        "for i in range(4):\n",
        "  print(ascOrder[len(a1)-1-i])"
      ],
      "metadata": {
        "colab": {
          "base_uri": "https://localhost:8080/"
        },
        "id": "gFpOuQMCnbFo",
        "outputId": "c011055c-7663-4c4e-dc5a-df375539233b"
      },
      "execution_count": 7,
      "outputs": [
        {
          "output_type": "stream",
          "name": "stdout",
          "text": [
            "[ 10  52  62  16  16  54 453]\n",
            "[ 10  16  16  52  54  62 453]\n",
            "[0 3 4 1 5 2 6]\n",
            "10\n",
            "16\n",
            "16\n",
            "52\n",
            "\n",
            "453\n",
            "62\n",
            "54\n",
            "52\n"
          ]
        }
      ]
    },
    {
      "cell_type": "code",
      "source": [
        "a2 = np.array([1.0, 1.2, 2.2, 2.0, 3.0, 2.0])\n",
        "\n",
        "intElements = a2[a2 == a2.astype(int)]\n",
        "print(intElements)\n",
        "\n",
        "floatElements = a2[a2 == a2.astype(float)]\n",
        "print(floatElements)"
      ],
      "metadata": {
        "colab": {
          "base_uri": "https://localhost:8080/"
        },
        "id": "3l9cYDU_nono",
        "outputId": "d16c534c-24a8-41e5-ef9c-1199e591e628"
      },
      "execution_count": 6,
      "outputs": [
        {
          "output_type": "stream",
          "name": "stdout",
          "text": [
            "[1. 2. 3. 2.]\n",
            "[1.  1.2 2.2 2.  3.  2. ]\n"
          ]
        }
      ]
    },
    {
      "cell_type": "markdown",
      "source": [
        "3.You are given a weekly sales dataset and need to perform various\n",
        "  operations using NumPy broadcasting.\n",
        "  \n",
        "  Generate your unique sales dataset:\n",
        "  Take the sum of the ASCII values of the initials of your first and last name. Call this value X. (If your initials are A B → ASCII sum = 65+66 = 131 → sales = [131, 181, 231, 281, 331].)\n",
        "\n",
        "  Create a NumPy array sales with values [X, X+50, X+100, X+150, X+200].\n",
        "  Compute your personalized tax rate as ((X % 5) + 5) / 100.\n",
        "  Use broadcasting to apply this tax rate to each sales value.\n",
        "\n",
        "  Adjust sales based on discount:\n",
        "  If sales < X+100, apply a 5% discount.\n",
        "  If sales >= X+100, apply a 10% discount.\n",
        "  Expand sales data for multiple weeks:\n",
        "  Create a 3×5 matrix representing three weeks of sales by stacking sales three times using broadcasting.\n",
        "  Increase sales by 2% per week using element-wise broadcasting."
      ],
      "metadata": {
        "id": "2VW6TZOcn6Wn"
      }
    },
    {
      "cell_type": "code",
      "source": [
        "X = ord('D') + ord('C')\n",
        "print(X)\n",
        "\n",
        "sales = np.array([X,X+50,X+100, X+150,X+200])\n",
        "print(sale)\n",
        "\n",
        "tax = ((X % 5) + 5) / 100\n",
        "sales = tax + sales\n",
        "print(sales)\n",
        "\n",
        "index = 0\n",
        "while(index < len(sales)):\n",
        "  if(sales[index] < X+100):\n",
        "    sales[index] = 0.95 * sales[index]\n",
        "  else:\n",
        "    sales[index] = 0.9 * sales[index]\n",
        "  index += 1\n",
        "\n",
        "expandedSales = np.tile(sales,(3,1))\n",
        "print(expandedSales)\n",
        "\n",
        "weeks = np.arange(3).reshape(3,1)\n",
        "multiplier = 1 + weeks * 0.02\n",
        "expandedSales *= multiplier\n",
        "print(expandedSales)"
      ],
      "metadata": {
        "colab": {
          "base_uri": "https://localhost:8080/",
          "height": 236
        },
        "id": "NNC_fIE2oR-_",
        "outputId": "bf94c72f-d792-414b-f318-28b8a8892880"
      },
      "execution_count": 5,
      "outputs": [
        {
          "output_type": "stream",
          "name": "stdout",
          "text": [
            "135\n"
          ]
        },
        {
          "output_type": "error",
          "ename": "NameError",
          "evalue": "name 'sale' is not defined",
          "traceback": [
            "\u001b[0;31m---------------------------------------------------------------------------\u001b[0m",
            "\u001b[0;31mNameError\u001b[0m                                 Traceback (most recent call last)",
            "\u001b[0;32m<ipython-input-5-e6f7c6737dde>\u001b[0m in \u001b[0;36m<cell line: 0>\u001b[0;34m()\u001b[0m\n\u001b[1;32m      3\u001b[0m \u001b[0;34m\u001b[0m\u001b[0m\n\u001b[1;32m      4\u001b[0m \u001b[0msales\u001b[0m \u001b[0;34m=\u001b[0m \u001b[0mnp\u001b[0m\u001b[0;34m.\u001b[0m\u001b[0marray\u001b[0m\u001b[0;34m(\u001b[0m\u001b[0;34m[\u001b[0m\u001b[0mX\u001b[0m\u001b[0;34m,\u001b[0m\u001b[0mX\u001b[0m\u001b[0;34m+\u001b[0m\u001b[0;36m50\u001b[0m\u001b[0;34m,\u001b[0m\u001b[0mX\u001b[0m\u001b[0;34m+\u001b[0m\u001b[0;36m100\u001b[0m\u001b[0;34m,\u001b[0m \u001b[0mX\u001b[0m\u001b[0;34m+\u001b[0m\u001b[0;36m150\u001b[0m\u001b[0;34m,\u001b[0m\u001b[0mX\u001b[0m\u001b[0;34m+\u001b[0m\u001b[0;36m200\u001b[0m\u001b[0;34m]\u001b[0m\u001b[0;34m)\u001b[0m\u001b[0;34m\u001b[0m\u001b[0;34m\u001b[0m\u001b[0m\n\u001b[0;32m----> 5\u001b[0;31m \u001b[0mprint\u001b[0m\u001b[0;34m(\u001b[0m\u001b[0msale\u001b[0m\u001b[0;34m)\u001b[0m\u001b[0;34m\u001b[0m\u001b[0;34m\u001b[0m\u001b[0m\n\u001b[0m\u001b[1;32m      6\u001b[0m \u001b[0;34m\u001b[0m\u001b[0m\n\u001b[1;32m      7\u001b[0m \u001b[0mtax\u001b[0m \u001b[0;34m=\u001b[0m \u001b[0;34m(\u001b[0m\u001b[0;34m(\u001b[0m\u001b[0mX\u001b[0m \u001b[0;34m%\u001b[0m \u001b[0;36m5\u001b[0m\u001b[0;34m)\u001b[0m \u001b[0;34m+\u001b[0m \u001b[0;36m5\u001b[0m\u001b[0;34m)\u001b[0m \u001b[0;34m/\u001b[0m \u001b[0;36m100\u001b[0m\u001b[0;34m\u001b[0m\u001b[0;34m\u001b[0m\u001b[0m\n",
            "\u001b[0;31mNameError\u001b[0m: name 'sale' is not defined"
          ]
        }
      ]
    },
    {
      "cell_type": "markdown",
      "source": [
        "4.Generate x values using np.linspace() from -10 to 10 with 100 points. Use\n",
        "  each function from the list below and compute y values using NumPy:\n",
        "\n",
        "Y = x2\n",
        "Y = sin(x)\n",
        "Y = ex\n",
        "Y = log(|x| + 1)\n",
        "Plot the chosen function using Matplotlib. Add title, labels, and grid for clarity."
      ],
      "metadata": {
        "id": "jPZGYh9Hobk_"
      }
    },
    {
      "cell_type": "code",
      "execution_count": 4,
      "metadata": {
        "id": "596WN2QQAS3V",
        "colab": {
          "base_uri": "https://localhost:8080/",
          "height": 449
        },
        "outputId": "a0746d06-4c49-484c-d6fe-ba18a0300603"
      },
      "outputs": [
        {
          "output_type": "display_data",
          "data": {
            "text/plain": [
              "<Figure size 640x480 with 1 Axes>"
            ],
            "image/png": "[encoded data removed]"
          },
          "metadata": {}
        }
      ],
      "source": [
        "import matplotlib.pyplot as plt\n",
        "\n",
        "x = np.linspace(-10, 10, 100)\n",
        "y1 = x**2\n",
        "y2 = np.sin(x)\n",
        "y3 = np.exp(x)\n",
        "y4 = np.log(np.abs(x) + 1)\n",
        "\n",
        "plt.plot(x, y1, label='Y = x^2')\n",
        "plt.plot(x, y2, label='Y = sin(x)')\n",
        "plt.plot(x, y3, label='Y = e^x')\n",
        "plt.plot(x, y4, label='Y = log(|x| + 1)')\n",
        "\n",
        "plt.xlabel(\"x\")\n",
        "plt.ylabel(\"y\")\n",
        "plt.legend()\n",
        "plt.grid(True)\n",
        "plt.show()\n",
        "\n"
      ]
    }
  ]
}