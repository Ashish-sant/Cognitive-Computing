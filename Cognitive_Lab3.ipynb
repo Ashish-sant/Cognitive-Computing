{
  "nbformat": 4,
  "nbformat_minor": 0,
  "metadata": {
    "colab": {
      "provenance": []
    },
    "kernelspec": {
      "name": "python3",
      "display_name": "Python 3"
    },
    "language_info": {
      "name": "python"
    }
  },
  "cells": [
    {
      "cell_type": "markdown",
      "source": [
        "\n",
        "\n",
        "1 Write a program to create a NumPy 1D-array with 5 elements and perform basic operations like:\n",
        "\n",
        "a) Addition of 2 in all the element\n",
        "\n",
        "b) Multiply 3 with all the elements\n",
        "\n",
        "c) Divide every element by 2\n",
        "\n"
      ],
      "metadata": {
        "id": "C91pr3vcYwCt"
      }
    },
    {
      "cell_type": "code",
      "execution_count": 1,
      "metadata": {
        "id": "2mJ3pDr4Yrby"
      },
      "outputs": [],
      "source": [
        "import numpy as np"
      ]
    },
    {
      "cell_type": "code",
      "source": [
        "arr = np.array([1,2,3,4,5])\n",
        "print(arr +2)\n",
        "print(arr*3)\n",
        "print(arr/2)"
      ],
      "metadata": {
        "colab": {
          "base_uri": "https://localhost:8080/"
        },
        "id": "qwOQw0TTY8RV",
        "outputId": "953530b7-d699-42af-ddde-42b38c24ab36"
      },
      "execution_count": 5,
      "outputs": [
        {
          "output_type": "stream",
          "name": "stdout",
          "text": [
            "[3 4 5 6 7]\n",
            "[ 3  6  9 12 15]\n",
            "[0.5 1.  1.5 2.  2.5]\n"
          ]
        }
      ]
    },
    {
      "cell_type": "markdown",
      "source": [
        "Q.2 Questions on Basic NumPy Array:\n",
        "\n",
        "a) Reverse the NumPy array: arr = np.array([1, 2, 3, 6, 4, 5])\n",
        "\n",
        "b) Find the most frequent value and their indice(s) in the following arrays:\n",
        "\n",
        "i. x = np.array([1,2,3,4,5,1,2,1,1,1])\n",
        "\n",
        "ii. y = np.array([1, 1, 1, 2, 3, 4, 2, 4, 3, 3, ])"
      ],
      "metadata": {
        "id": "NSJ_b0hVZz9Z"
      }
    },
    {
      "cell_type": "code",
      "source": [
        "print(arr[::-1])"
      ],
      "metadata": {
        "colab": {
          "base_uri": "https://localhost:8080/"
        },
        "id": "3uJ153G-Z37v",
        "outputId": "efe31f4f-c3c6-484e-bba2-3af675788ab6"
      },
      "execution_count": 6,
      "outputs": [
        {
          "output_type": "stream",
          "name": "stdout",
          "text": [
            "[5 4 3 2 1]\n"
          ]
        }
      ]
    },
    {
      "cell_type": "code",
      "source": [
        "x = np.array([1,2,3,4,5,1,2,1,1,1])\n",
        "y = np.array([1, 1, 1, 2, 3, 4, 2, 4, 3, 3, ])\n",
        "mostx = np.bincount(x).argmax();\n",
        "indices = np.where(x==mostx)[0]\n",
        "print(mostx)\n",
        "print(indices,end='\\n\\n')\n",
        "\n",
        "mosty = np.bincount(y).argmax();\n",
        "iy = np.where(y==mostx)[0]\n",
        "print(mosty)\n",
        "print(iy)\n",
        ""
      ],
      "metadata": {
        "colab": {
          "base_uri": "https://localhost:8080/"
        },
        "id": "w86F3fyqaHsi",
        "outputId": "9c6ce1d1-f722-488d-a2e0-919cdf3c21a0"
      },
      "execution_count": 8,
      "outputs": [
        {
          "output_type": "stream",
          "name": "stdout",
          "text": [
            "1\n",
            "[0 5 7 8 9]\n",
            "\n",
            "1\n",
            "[0 1 2]\n"
          ]
        }
      ]
    },
    {
      "cell_type": "markdown",
      "source": [
        "Q.3 For the given 2-D array arr=np.array([10, 20, 30], [40, 50, 60], [70, 80, 90]), access elements using row and column indices as follows:\n",
        "\n",
        "a) Access 1st row, 2nd column\n",
        "\n",
        "b) Access 3rd row, 1st column"
      ],
      "metadata": {
        "id": "Em9y5jYSbcSG"
      }
    },
    {
      "cell_type": "code",
      "source": [
        "a = np.array([[10,20,30],[40,50,60],[70,80,90]])\n",
        "print(a[0,1])\n",
        "print(a[2,0])"
      ],
      "metadata": {
        "colab": {
          "base_uri": "https://localhost:8080/"
        },
        "id": "IprIdGVZbirU",
        "outputId": "5e37fed4-5dbd-47c8-9574-dd9fdba55b97"
      },
      "execution_count": 9,
      "outputs": [
        {
          "output_type": "stream",
          "name": "stdout",
          "text": [
            "20\n",
            "70\n"
          ]
        }
      ]
    },
    {
      "cell_type": "markdown",
      "source": [
        "Q.4 Write program to create an 1-D NumPy array named Your Name with evenly\n",
        "spaced 25 numbers from 10 to 100 using linspace(). Print the dimensions of the array,\n",
        "shape, total elements, the data type of each element and total number of bytes consumed\n",
        "by the array. Find the transpose of this array using reshape() attribute. Can we do the same\n",
        "with T attribute?"
      ],
      "metadata": {
        "id": "Q3vLHA0tb3c4"
      }
    },
    {
      "cell_type": "code",
      "source": [
        "Ashish = np.linspace(10,100,25)\n",
        "print(Ashish.ndim)\n",
        "print(Ashish.shape)\n",
        "print(Ashish.size)\n",
        "print(Ashish.dtype)\n",
        "print(Ashish.nbytes)\n",
        "print(Ashish.reshape(25,1))\n",
        "print(Ashish)\n",
        "print(Ashish.T)\n",
        "print(Ashish)\n",
        "#No change in orginal shape if we use .T for transpose"
      ],
      "metadata": {
        "colab": {
          "base_uri": "https://localhost:8080/"
        },
        "id": "HLQrLntdb6AI",
        "outputId": "439d9cf1-b949-4ea5-fa56-16c6649065aa"
      },
      "execution_count": 26,
      "outputs": [
        {
          "output_type": "stream",
          "name": "stdout",
          "text": [
            "1\n",
            "(25,)\n",
            "25\n",
            "float64\n",
            "200\n",
            "[ 10.    13.75  17.5   21.25  25.    28.75  32.5   36.25  40.    43.75\n",
            "  47.5   51.25  55.    58.75  62.5   66.25  70.    73.75  77.5   81.25\n",
            "  85.    88.75  92.5   96.25 100.  ]\n",
            "[[ 10.  ]\n",
            " [ 13.75]\n",
            " [ 17.5 ]\n",
            " [ 21.25]\n",
            " [ 25.  ]\n",
            " [ 28.75]\n",
            " [ 32.5 ]\n",
            " [ 36.25]\n",
            " [ 40.  ]\n",
            " [ 43.75]\n",
            " [ 47.5 ]\n",
            " [ 51.25]\n",
            " [ 55.  ]\n",
            " [ 58.75]\n",
            " [ 62.5 ]\n",
            " [ 66.25]\n",
            " [ 70.  ]\n",
            " [ 73.75]\n",
            " [ 77.5 ]\n",
            " [ 81.25]\n",
            " [ 85.  ]\n",
            " [ 88.75]\n",
            " [ 92.5 ]\n",
            " [ 96.25]\n",
            " [100.  ]]\n",
            "[ 10.    13.75  17.5   21.25  25.    28.75  32.5   36.25  40.    43.75\n",
            "  47.5   51.25  55.    58.75  62.5   66.25  70.    73.75  77.5   81.25\n",
            "  85.    88.75  92.5   96.25 100.  ]\n",
            "[ 10.    13.75  17.5   21.25  25.    28.75  32.5   36.25  40.    43.75\n",
            "  47.5   51.25  55.    58.75  62.5   66.25  70.    73.75  77.5   81.25\n",
            "  85.    88.75  92.5   96.25 100.  ]\n",
            "[ 10.    13.75  17.5   21.25  25.    28.75  32.5   36.25  40.    43.75\n",
            "  47.5   51.25  55.    58.75  62.5   66.25  70.    73.75  77.5   81.25\n",
            "  85.    88.75  92.5   96.25 100.  ]\n"
          ]
        }
      ]
    },
    {
      "cell_type": "markdown",
      "source": [
        "Create a 2-D Array of three rows and four columns, named ucs420_your_name\n",
        "with following values – 10, 20, 30, 40, 50, 60, 70, 80, 90, 15, 20, 35. Compute the mean,\n",
        "median, max, min, unique elements. Reshape the array to four rows and three columns and\n",
        "name it as reshaped_ ucs420_your_name. Resize the array to two rows and three\n",
        "columns and name it as resized_ ucs420_your_name."
      ],
      "metadata": {
        "id": "xqgf8nDOfBQD"
      }
    },
    {
      "cell_type": "code",
      "source": [
        "ucs420 = np.array([[10,20,30,40],[50,60,70,80],[90,15,20,35]])\n",
        "print(\"Mean\",np.mean(ucs420))\n",
        "print(\"Median\",np.median(ucs420))\n",
        "print(\"Max\",np.max(ucs420))\n",
        "print(\"Min\",np.min(ucs420))\n",
        "print(\"Uniques\",np.unique(ucs420))\n",
        "\n",
        "\n",
        "print(\"reshaping\")\n",
        "print(ucs420.reshape(4,3))\n",
        "\n",
        "print(\"resizing\")\n",
        "print(np.resize(ucs420,(2,3)))\n",
        ""
      ],
      "metadata": {
        "colab": {
          "base_uri": "https://localhost:8080/"
        },
        "id": "up48AESxfA65",
        "outputId": "4e1b9f44-ab10-4d62-80d7-4c685909dc20"
      },
      "execution_count": 27,
      "outputs": [
        {
          "output_type": "stream",
          "name": "stdout",
          "text": [
            "Mean 43.333333333333336\n",
            "Median 37.5\n",
            "Max 90\n",
            "Min 10\n",
            "Uniques [10 15 20 30 35 40 50 60 70 80 90]\n",
            "reshaping\n",
            "[[10 20 30]\n",
            " [40 50 60]\n",
            " [70 80 90]\n",
            " [15 20 35]]\n",
            "resizing\n",
            "[[10 20 30]\n",
            " [40 50 60]]\n"
          ]
        }
      ]
    }
  ]
}